{
 "cells": [
  {
   "cell_type": "code",
   "execution_count": 1,
   "metadata": {},
   "outputs": [],
   "source": [
    "import os\n",
    "import numpy as np\n",
    "#from lookup_tables import *\n",
    "import pretty_midi"
   ]
  },
  {
   "cell_type": "markdown",
   "metadata": {},
   "source": [
    "# chord-roll (48, 84)  "
   ]
  },
  {
   "cell_type": "code",
   "execution_count": 2,
   "metadata": {},
   "outputs": [],
   "source": [
    "tra_song = np.load('../data/preprocessing/phr_chord_clean_tra.npy')\n",
    "val_song = np.load('../data/preprocessing/phr_chord_clean_val.npy')"
   ]
  },
  {
   "cell_type": "code",
   "execution_count": 3,
   "metadata": {},
   "outputs": [
    {
     "name": "stdout",
     "output_type": "stream",
     "text": [
      "(30683, 384, 84, 6)\n",
      "(3000, 384, 84, 6)\n"
     ]
    }
   ],
   "source": [
    "print(np.shape(tra_song))\n",
    "print(np.shape(val_song))"
   ]
  },
  {
   "cell_type": "code",
   "execution_count": 4,
   "metadata": {},
   "outputs": [],
   "source": [
    "tra_song_re = np.reshape(tra_song,(-1,48,84,6))\n",
    "val_song_re = np.reshape(val_song,(-1,48,84,6))"
   ]
  },
  {
   "cell_type": "code",
   "execution_count": 5,
   "metadata": {},
   "outputs": [],
   "source": [
    "np.save('../data/chord_roll/tra/x_bar_chroma',tra_song_re[:,:,:,:5])\n",
    "np.save('../data/chord_roll/val/x_bar_chroma',val_song_re[:,:,:,:5])\n",
    "np.save('../data/chord_roll/tra/y_bar_chroma',tra_song_re[:,:,:,5:])\n",
    "np.save('../data/chord_roll/val/y_bar_chroma',val_song_re[:,:,:,5:])"
   ]
  },
  {
   "cell_type": "code",
   "execution_count": null,
   "metadata": {},
   "outputs": [],
   "source": []
  }
 ],
 "metadata": {
  "kernelspec": {
   "display_name": "Python 3",
   "language": "python",
   "name": "python3"
  },
  "language_info": {
   "codemirror_mode": {
    "name": "ipython",
    "version": 3
   },
   "file_extension": ".py",
   "mimetype": "text/x-python",
   "name": "python",
   "nbconvert_exporter": "python",
   "pygments_lexer": "ipython3",
   "version": "3.6.3"
  }
 },
 "nbformat": 4,
 "nbformat_minor": 2
}
